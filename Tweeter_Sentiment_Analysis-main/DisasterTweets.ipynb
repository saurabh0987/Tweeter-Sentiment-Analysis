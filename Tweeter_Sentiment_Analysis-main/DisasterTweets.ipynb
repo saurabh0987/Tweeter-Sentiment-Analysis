{
  "nbformat": 4,
  "nbformat_minor": 0,
  "metadata": {
    "colab": {
      "name": "DisasterTweets.ipynb",
      "provenance": [],
      "authorship_tag": "ABX9TyNsda2OXbPCdc8vBeStV+ox",
      "include_colab_link": true
    },
    "kernelspec": {
      "name": "python3",
      "display_name": "Python 3"
    },
    "language_info": {
      "name": "python"
    }
  },
  "cells": [
    {
      "cell_type": "markdown",
      "metadata": {
        "id": "view-in-github",
        "colab_type": "text"
      },
      "source": [
        "<a href=\"https://colab.research.google.com/github/MautKaFarishta/Tweeter_Sentiment_Analysis/blob/main/DisasterTweets.ipynb\" target=\"_parent\"><img src=\"https://colab.research.google.com/assets/colab-badge.svg\" alt=\"Open In Colab\"/></a>"
      ]
    },
    {
      "cell_type": "markdown",
      "metadata": {
        "id": "sYHfGPg94pld"
      },
      "source": [
        "# ***`Natural Language Processing with Disaster Tweets`***"
      ]
    },
    {
      "cell_type": "markdown",
      "metadata": {
        "id": "dIdbTXup4h1E"
      },
      "source": [
        "https://www.kaggle.com/c/nlp-getting-started/overview\n",
        "\n"
      ]
    },
    {
      "cell_type": "code",
      "metadata": {
        "id": "Ljy1pts_4bNZ"
      },
      "source": [
        "import pandas as pd\n",
        "import numpy as np\n",
        "import matplotlib.pyplot as plt\n",
        "import seaborn as sb\n",
        "import warnings\n",
        "warnings.filterwarnings(\"ignore\")"
      ],
      "execution_count": 158,
      "outputs": []
    },
    {
      "cell_type": "code",
      "metadata": {
        "colab": {
          "base_uri": "https://localhost:8080/",
          "height": 204
        },
        "id": "Xb7f7o3Q5Att",
        "outputId": "3d20e3fe-830f-4758-d5bf-83421148bc37"
      },
      "source": [
        "data = pd.read_csv('train.csv')\n",
        "data.head()"
      ],
      "execution_count": 159,
      "outputs": [
        {
          "output_type": "execute_result",
          "data": {
            "text/html": [
              "<div>\n",
              "<style scoped>\n",
              "    .dataframe tbody tr th:only-of-type {\n",
              "        vertical-align: middle;\n",
              "    }\n",
              "\n",
              "    .dataframe tbody tr th {\n",
              "        vertical-align: top;\n",
              "    }\n",
              "\n",
              "    .dataframe thead th {\n",
              "        text-align: right;\n",
              "    }\n",
              "</style>\n",
              "<table border=\"1\" class=\"dataframe\">\n",
              "  <thead>\n",
              "    <tr style=\"text-align: right;\">\n",
              "      <th></th>\n",
              "      <th>id</th>\n",
              "      <th>keyword</th>\n",
              "      <th>location</th>\n",
              "      <th>text</th>\n",
              "      <th>target</th>\n",
              "    </tr>\n",
              "  </thead>\n",
              "  <tbody>\n",
              "    <tr>\n",
              "      <th>0</th>\n",
              "      <td>1</td>\n",
              "      <td>NaN</td>\n",
              "      <td>NaN</td>\n",
              "      <td>Our Deeds are the Reason of this #earthquake M...</td>\n",
              "      <td>1</td>\n",
              "    </tr>\n",
              "    <tr>\n",
              "      <th>1</th>\n",
              "      <td>4</td>\n",
              "      <td>NaN</td>\n",
              "      <td>NaN</td>\n",
              "      <td>Forest fire near La Ronge Sask. Canada</td>\n",
              "      <td>1</td>\n",
              "    </tr>\n",
              "    <tr>\n",
              "      <th>2</th>\n",
              "      <td>5</td>\n",
              "      <td>NaN</td>\n",
              "      <td>NaN</td>\n",
              "      <td>All residents asked to 'shelter in place' are ...</td>\n",
              "      <td>1</td>\n",
              "    </tr>\n",
              "    <tr>\n",
              "      <th>3</th>\n",
              "      <td>6</td>\n",
              "      <td>NaN</td>\n",
              "      <td>NaN</td>\n",
              "      <td>13,000 people receive #wildfires evacuation or...</td>\n",
              "      <td>1</td>\n",
              "    </tr>\n",
              "    <tr>\n",
              "      <th>4</th>\n",
              "      <td>7</td>\n",
              "      <td>NaN</td>\n",
              "      <td>NaN</td>\n",
              "      <td>Just got sent this photo from Ruby #Alaska as ...</td>\n",
              "      <td>1</td>\n",
              "    </tr>\n",
              "  </tbody>\n",
              "</table>\n",
              "</div>"
            ],
            "text/plain": [
              "   id keyword  ...                                               text target\n",
              "0   1     NaN  ...  Our Deeds are the Reason of this #earthquake M...      1\n",
              "1   4     NaN  ...             Forest fire near La Ronge Sask. Canada      1\n",
              "2   5     NaN  ...  All residents asked to 'shelter in place' are ...      1\n",
              "3   6     NaN  ...  13,000 people receive #wildfires evacuation or...      1\n",
              "4   7     NaN  ...  Just got sent this photo from Ruby #Alaska as ...      1\n",
              "\n",
              "[5 rows x 5 columns]"
            ]
          },
          "metadata": {
            "tags": []
          },
          "execution_count": 159
        }
      ]
    },
    {
      "cell_type": "code",
      "metadata": {
        "colab": {
          "base_uri": "https://localhost:8080/"
        },
        "id": "f1VTUDGs5Gpo",
        "outputId": "b9312026-91c4-4b42-9a65-7b345449faa2"
      },
      "source": [
        "print(data['location'].isnull().sum())\n",
        "data['keyword'].isnull().sum()"
      ],
      "execution_count": 160,
      "outputs": [
        {
          "output_type": "stream",
          "text": [
            "2533\n"
          ],
          "name": "stdout"
        },
        {
          "output_type": "execute_result",
          "data": {
            "text/plain": [
              "61"
            ]
          },
          "metadata": {
            "tags": []
          },
          "execution_count": 160
        }
      ]
    },
    {
      "cell_type": "code",
      "metadata": {
        "id": "pIfzXQZw5L_A"
      },
      "source": [
        "data['keyword'].fillna(\"nothing\",inplace = True)"
      ],
      "execution_count": 161,
      "outputs": []
    },
    {
      "cell_type": "code",
      "metadata": {
        "colab": {
          "base_uri": "https://localhost:8080/"
        },
        "id": "cHhUnVQw5pXY",
        "outputId": "fb05e748-18dd-4df9-df4f-8e6296e8afff"
      },
      "source": [
        "data['keyword'].isnull().sum()"
      ],
      "execution_count": 162,
      "outputs": [
        {
          "output_type": "execute_result",
          "data": {
            "text/plain": [
              "0"
            ]
          },
          "metadata": {
            "tags": []
          },
          "execution_count": 162
        }
      ]
    },
    {
      "cell_type": "code",
      "metadata": {
        "colab": {
          "base_uri": "https://localhost:8080/"
        },
        "id": "9oLtarh-5txe",
        "outputId": "3ab516ee-0f2b-4d28-e989-932d1db2f77f"
      },
      "source": [
        "total = set()\n",
        "for sentence in data['text'].items():\n",
        "  for word in sentence[1].split():\n",
        "    total.add(word)\n",
        "\n",
        "len(total)"
      ],
      "execution_count": 163,
      "outputs": [
        {
          "output_type": "execute_result",
          "data": {
            "text/plain": [
              "31924"
            ]
          },
          "metadata": {
            "tags": []
          },
          "execution_count": 163
        }
      ]
    },
    {
      "cell_type": "code",
      "metadata": {
        "id": "dRfyd0W_7WaN"
      },
      "source": [
        "def cleaned(text):\n",
        "    text = text.str.lower() # lowercase\n",
        "    text = text.str.replace(r\"\\#\",\"\") # replaces hashtags\n",
        "    text = text.str.replace(r\"http\\S+\",\"URL\")  # remove URL addresses\n",
        "    text = text.str.replace(r\"@\",\"\")\n",
        "    text = text.str.replace(r\"!\",\"\")\n",
        "    text = text.str.replace(r\"!\",\"\")\n",
        "    text = text.str.replace(r\"[^A-Za-z0-9()!?\\'\\`\\\"]\", \" \")\n",
        "    text = text.str.replace(\"\\s{2,}\", \" \")\n",
        "    return text"
      ],
      "execution_count": 164,
      "outputs": []
    },
    {
      "cell_type": "code",
      "metadata": {
        "id": "HY--sz3D8eCV"
      },
      "source": [
        "data['text'] = cleaned(data['text'])"
      ],
      "execution_count": 165,
      "outputs": []
    },
    {
      "cell_type": "code",
      "metadata": {
        "colab": {
          "base_uri": "https://localhost:8080/"
        },
        "id": "kaKEhpId6GV1",
        "outputId": "ad87953e-286f-446c-9721-d834daea541c"
      },
      "source": [
        "import nltk\n",
        "from nltk.corpus import stopwords\n",
        "nltk.download('stopwords')\n",
        "from nltk import word_tokenize\n",
        "nltk.download('punkt')\n",
        "\n",
        "stopWords = stopwords.words('english')\n",
        "print(stopWords)"
      ],
      "execution_count": 166,
      "outputs": [
        {
          "output_type": "stream",
          "text": [
            "[nltk_data] Downloading package stopwords to /root/nltk_data...\n",
            "[nltk_data]   Package stopwords is already up-to-date!\n",
            "[nltk_data] Downloading package punkt to /root/nltk_data...\n",
            "[nltk_data]   Package punkt is already up-to-date!\n",
            "['i', 'me', 'my', 'myself', 'we', 'our', 'ours', 'ourselves', 'you', \"you're\", \"you've\", \"you'll\", \"you'd\", 'your', 'yours', 'yourself', 'yourselves', 'he', 'him', 'his', 'himself', 'she', \"she's\", 'her', 'hers', 'herself', 'it', \"it's\", 'its', 'itself', 'they', 'them', 'their', 'theirs', 'themselves', 'what', 'which', 'who', 'whom', 'this', 'that', \"that'll\", 'these', 'those', 'am', 'is', 'are', 'was', 'were', 'be', 'been', 'being', 'have', 'has', 'had', 'having', 'do', 'does', 'did', 'doing', 'a', 'an', 'the', 'and', 'but', 'if', 'or', 'because', 'as', 'until', 'while', 'of', 'at', 'by', 'for', 'with', 'about', 'against', 'between', 'into', 'through', 'during', 'before', 'after', 'above', 'below', 'to', 'from', 'up', 'down', 'in', 'out', 'on', 'off', 'over', 'under', 'again', 'further', 'then', 'once', 'here', 'there', 'when', 'where', 'why', 'how', 'all', 'any', 'both', 'each', 'few', 'more', 'most', 'other', 'some', 'such', 'no', 'nor', 'not', 'only', 'own', 'same', 'so', 'than', 'too', 'very', 's', 't', 'can', 'will', 'just', 'don', \"don't\", 'should', \"should've\", 'now', 'd', 'll', 'm', 'o', 're', 've', 'y', 'ain', 'aren', \"aren't\", 'couldn', \"couldn't\", 'didn', \"didn't\", 'doesn', \"doesn't\", 'hadn', \"hadn't\", 'hasn', \"hasn't\", 'haven', \"haven't\", 'isn', \"isn't\", 'ma', 'mightn', \"mightn't\", 'mustn', \"mustn't\", 'needn', \"needn't\", 'shan', \"shan't\", 'shouldn', \"shouldn't\", 'wasn', \"wasn't\", 'weren', \"weren't\", 'won', \"won't\", 'wouldn', \"wouldn't\"]\n"
          ],
          "name": "stdout"
        }
      ]
    },
    {
      "cell_type": "code",
      "metadata": {
        "id": "cuFh-MjN6ora"
      },
      "source": [
        "def remove_stopwords(text):\n",
        "  word_tokens = word_tokenize(text)\n",
        "  filtered_sentence = [w for w in word_tokens if not w in stopWords]\n",
        "  return \" \".join(filtered_sentence)"
      ],
      "execution_count": 167,
      "outputs": []
    },
    {
      "cell_type": "code",
      "metadata": {
        "colab": {
          "base_uri": "https://localhost:8080/"
        },
        "id": "JVwfZWME8mpn",
        "outputId": "ab27a822-8bb9-440b-8379-09495a05edd8"
      },
      "source": [
        "data['text'] = data['text'].apply(lambda x : remove_stopwords(x))\n",
        "data['text'].head()"
      ],
      "execution_count": 168,
      "outputs": [
        {
          "output_type": "execute_result",
          "data": {
            "text/plain": [
              "0         deeds reason earthquake may allah forgive us\n",
              "1                forest fire near la ronge sask canada\n",
              "2    residents asked 'shelter place ' notified offi...\n",
              "3    13 000 people receive wildfires evacuation ord...\n",
              "4    got sent photo ruby alaska smoke wildfires pou...\n",
              "Name: text, dtype: object"
            ]
          },
          "metadata": {
            "tags": []
          },
          "execution_count": 168
        }
      ]
    },
    {
      "cell_type": "code",
      "metadata": {
        "id": "j0FlTE-E_bTf"
      },
      "source": [
        "from sklearn.metrics import auc,accuracy_score,roc_curve,confusion_matrix,f1_score\n",
        "from sklearn.model_selection import train_test_split"
      ],
      "execution_count": 169,
      "outputs": []
    },
    {
      "cell_type": "code",
      "metadata": {
        "id": "bo4DEJxy_tAf"
      },
      "source": [
        "y = data['target']\n",
        "X = data.drop(['target'],axis = 1)"
      ],
      "execution_count": 170,
      "outputs": []
    },
    {
      "cell_type": "code",
      "metadata": {
        "id": "lgBvvTP6_j0v"
      },
      "source": [
        "X_train, X_test, y_train, y_test = train_test_split(X, y, test_size=0.20, random_state=42)"
      ],
      "execution_count": 171,
      "outputs": []
    },
    {
      "cell_type": "code",
      "metadata": {
        "id": "yr3Dh9-M89iU"
      },
      "source": [
        "from sklearn.feature_extraction.text import CountVectorizer, TfidfVectorizer \n",
        "\n",
        "vect = TfidfVectorizer(max_features = 3000 , ngram_range=(1,3))\n",
        "\n",
        "vect.fit(X['text'])\n",
        "\n",
        "sparse_text_tr = vect.transform(X_train['text'])\n",
        "sparse_text_te = vect.transform(X_test['text'])"
      ],
      "execution_count": 172,
      "outputs": []
    },
    {
      "cell_type": "code",
      "metadata": {
        "id": "5g_oBjm19wev"
      },
      "source": [
        "from sklearn.linear_model import LogisticRegression\n",
        "from sklearn.naive_bayes import MultinomialNB\n",
        "from sklearn.model_selection import GridSearchCV"
      ],
      "execution_count": 180,
      "outputs": []
    },
    {
      "cell_type": "code",
      "metadata": {
        "colab": {
          "base_uri": "https://localhost:8080/"
        },
        "id": "RyUg9Pi393b5",
        "outputId": "c3395096-9639-4e36-c82e-a15ce7ed3b63"
      },
      "source": [
        "log = LogisticRegression()\n",
        "\n",
        "p = {'penalty':['l1','l2'],'C':[0.0001,0.001,0.01,0.1,1,10,100,1000],'class_weight':[None,'balanced']}\n",
        "\n",
        "G = GridSearchCV(log,p,verbose=2,cv=5)\n",
        "\n",
        "G.fit(sparse_text_tr,y_train)"
      ],
      "execution_count": 183,
      "outputs": [
        {
          "output_type": "stream",
          "text": [
            "Fitting 5 folds for each of 32 candidates, totalling 160 fits\n",
            "[CV] C=0.0001, class_weight=None, penalty=l1 .........................\n",
            "[CV] .......... C=0.0001, class_weight=None, penalty=l1, total=   0.0s\n",
            "[CV] C=0.0001, class_weight=None, penalty=l1 .........................\n",
            "[CV] .......... C=0.0001, class_weight=None, penalty=l1, total=   0.0s\n",
            "[CV] C=0.0001, class_weight=None, penalty=l1 .........................\n",
            "[CV] .......... C=0.0001, class_weight=None, penalty=l1, total=   0.0s\n",
            "[CV] C=0.0001, class_weight=None, penalty=l1 .........................\n",
            "[CV] .......... C=0.0001, class_weight=None, penalty=l1, total=   0.0s\n",
            "[CV] C=0.0001, class_weight=None, penalty=l1 .........................\n",
            "[CV] .......... C=0.0001, class_weight=None, penalty=l1, total=   0.0s\n",
            "[CV] C=0.0001, class_weight=None, penalty=l2 .........................\n",
            "[CV] .......... C=0.0001, class_weight=None, penalty=l2, total=   0.0s\n",
            "[CV] C=0.0001, class_weight=None, penalty=l2 .........................\n",
            "[CV] .......... C=0.0001, class_weight=None, penalty=l2, total=   0.0s\n",
            "[CV] C=0.0001, class_weight=None, penalty=l2 .........................\n",
            "[CV] .......... C=0.0001, class_weight=None, penalty=l2, total=   0.0s\n",
            "[CV] C=0.0001, class_weight=None, penalty=l2 .........................\n",
            "[CV] .......... C=0.0001, class_weight=None, penalty=l2, total=   0.0s\n",
            "[CV] C=0.0001, class_weight=None, penalty=l2 .........................\n",
            "[CV] .......... C=0.0001, class_weight=None, penalty=l2, total=   0.0s\n",
            "[CV] C=0.0001, class_weight=balanced, penalty=l1 .....................\n",
            "[CV] ...... C=0.0001, class_weight=balanced, penalty=l1, total=   0.0s\n",
            "[CV] C=0.0001, class_weight=balanced, penalty=l1 .....................\n",
            "[CV] ...... C=0.0001, class_weight=balanced, penalty=l1, total=   0.0s\n",
            "[CV] C=0.0001, class_weight=balanced, penalty=l1 .....................\n",
            "[CV] ...... C=0.0001, class_weight=balanced, penalty=l1, total=   0.0s\n",
            "[CV] C=0.0001, class_weight=balanced, penalty=l1 .....................\n",
            "[CV] ...... C=0.0001, class_weight=balanced, penalty=l1, total=   0.0s\n",
            "[CV] C=0.0001, class_weight=balanced, penalty=l1 .....................\n",
            "[CV] ...... C=0.0001, class_weight=balanced, penalty=l1, total=   0.0s\n",
            "[CV] C=0.0001, class_weight=balanced, penalty=l2 .....................\n",
            "[CV] ...... C=0.0001, class_weight=balanced, penalty=l2, total=   0.0s\n",
            "[CV] C=0.0001, class_weight=balanced, penalty=l2 .....................\n",
            "[CV] ...... C=0.0001, class_weight=balanced, penalty=l2, total=   0.0s\n",
            "[CV] C=0.0001, class_weight=balanced, penalty=l2 .....................\n",
            "[CV] ...... C=0.0001, class_weight=balanced, penalty=l2, total=   0.0s\n",
            "[CV] C=0.0001, class_weight=balanced, penalty=l2 .....................\n",
            "[CV] ...... C=0.0001, class_weight=balanced, penalty=l2, total=   0.0s\n",
            "[CV] C=0.0001, class_weight=balanced, penalty=l2 .....................\n",
            "[CV] ...... C=0.0001, class_weight=balanced, penalty=l2, total=   0.0s\n",
            "[CV] C=0.001, class_weight=None, penalty=l1 ..........................\n",
            "[CV] ........... C=0.001, class_weight=None, penalty=l1, total=   0.0s\n",
            "[CV] C=0.001, class_weight=None, penalty=l1 ..........................\n",
            "[CV] ........... C=0.001, class_weight=None, penalty=l1, total=   0.0s\n",
            "[CV] C=0.001, class_weight=None, penalty=l1 ..........................\n",
            "[CV] ........... C=0.001, class_weight=None, penalty=l1, total=   0.0s\n",
            "[CV] C=0.001, class_weight=None, penalty=l1 ..........................\n",
            "[CV] ........... C=0.001, class_weight=None, penalty=l1, total=   0.0s\n",
            "[CV] C=0.001, class_weight=None, penalty=l1 ..........................\n",
            "[CV] ........... C=0.001, class_weight=None, penalty=l1, total=   0.0s\n",
            "[CV] C=0.001, class_weight=None, penalty=l2 ..........................\n"
          ],
          "name": "stdout"
        },
        {
          "output_type": "stream",
          "text": [
            "[Parallel(n_jobs=1)]: Using backend SequentialBackend with 1 concurrent workers.\n",
            "[Parallel(n_jobs=1)]: Done   1 out of   1 | elapsed:    0.0s remaining:    0.0s\n"
          ],
          "name": "stderr"
        },
        {
          "output_type": "stream",
          "text": [
            "[CV] ........... C=0.001, class_weight=None, penalty=l2, total=   0.0s\n",
            "[CV] C=0.001, class_weight=None, penalty=l2 ..........................\n",
            "[CV] ........... C=0.001, class_weight=None, penalty=l2, total=   0.0s\n",
            "[CV] C=0.001, class_weight=None, penalty=l2 ..........................\n",
            "[CV] ........... C=0.001, class_weight=None, penalty=l2, total=   0.0s\n",
            "[CV] C=0.001, class_weight=None, penalty=l2 ..........................\n",
            "[CV] ........... C=0.001, class_weight=None, penalty=l2, total=   0.0s\n",
            "[CV] C=0.001, class_weight=None, penalty=l2 ..........................\n",
            "[CV] ........... C=0.001, class_weight=None, penalty=l2, total=   0.0s\n",
            "[CV] C=0.001, class_weight=balanced, penalty=l1 ......................\n",
            "[CV] ....... C=0.001, class_weight=balanced, penalty=l1, total=   0.0s\n",
            "[CV] C=0.001, class_weight=balanced, penalty=l1 ......................\n",
            "[CV] ....... C=0.001, class_weight=balanced, penalty=l1, total=   0.0s\n",
            "[CV] C=0.001, class_weight=balanced, penalty=l1 ......................\n",
            "[CV] ....... C=0.001, class_weight=balanced, penalty=l1, total=   0.0s\n",
            "[CV] C=0.001, class_weight=balanced, penalty=l1 ......................\n",
            "[CV] ....... C=0.001, class_weight=balanced, penalty=l1, total=   0.0s\n",
            "[CV] C=0.001, class_weight=balanced, penalty=l1 ......................\n",
            "[CV] ....... C=0.001, class_weight=balanced, penalty=l1, total=   0.0s\n",
            "[CV] C=0.001, class_weight=balanced, penalty=l2 ......................\n",
            "[CV] ....... C=0.001, class_weight=balanced, penalty=l2, total=   0.0s\n",
            "[CV] C=0.001, class_weight=balanced, penalty=l2 ......................\n",
            "[CV] ....... C=0.001, class_weight=balanced, penalty=l2, total=   0.0s\n",
            "[CV] C=0.001, class_weight=balanced, penalty=l2 ......................\n",
            "[CV] ....... C=0.001, class_weight=balanced, penalty=l2, total=   0.0s\n",
            "[CV] C=0.001, class_weight=balanced, penalty=l2 ......................\n",
            "[CV] ....... C=0.001, class_weight=balanced, penalty=l2, total=   0.0s\n",
            "[CV] C=0.001, class_weight=balanced, penalty=l2 ......................\n",
            "[CV] ....... C=0.001, class_weight=balanced, penalty=l2, total=   0.0s\n",
            "[CV] C=0.01, class_weight=None, penalty=l1 ...........................\n",
            "[CV] ............ C=0.01, class_weight=None, penalty=l1, total=   0.0s\n",
            "[CV] C=0.01, class_weight=None, penalty=l1 ...........................\n",
            "[CV] ............ C=0.01, class_weight=None, penalty=l1, total=   0.0s\n",
            "[CV] C=0.01, class_weight=None, penalty=l1 ...........................\n",
            "[CV] ............ C=0.01, class_weight=None, penalty=l1, total=   0.0s\n",
            "[CV] C=0.01, class_weight=None, penalty=l1 ...........................\n",
            "[CV] ............ C=0.01, class_weight=None, penalty=l1, total=   0.0s\n",
            "[CV] C=0.01, class_weight=None, penalty=l1 ...........................\n",
            "[CV] ............ C=0.01, class_weight=None, penalty=l1, total=   0.0s\n",
            "[CV] C=0.01, class_weight=None, penalty=l2 ...........................\n",
            "[CV] ............ C=0.01, class_weight=None, penalty=l2, total=   0.0s\n",
            "[CV] C=0.01, class_weight=None, penalty=l2 ...........................\n",
            "[CV] ............ C=0.01, class_weight=None, penalty=l2, total=   0.0s\n",
            "[CV] C=0.01, class_weight=None, penalty=l2 ...........................\n",
            "[CV] ............ C=0.01, class_weight=None, penalty=l2, total=   0.0s\n",
            "[CV] C=0.01, class_weight=None, penalty=l2 ...........................\n",
            "[CV] ............ C=0.01, class_weight=None, penalty=l2, total=   0.0s\n",
            "[CV] C=0.01, class_weight=None, penalty=l2 ...........................\n",
            "[CV] ............ C=0.01, class_weight=None, penalty=l2, total=   0.0s\n",
            "[CV] C=0.01, class_weight=balanced, penalty=l1 .......................\n",
            "[CV] ........ C=0.01, class_weight=balanced, penalty=l1, total=   0.0s\n",
            "[CV] C=0.01, class_weight=balanced, penalty=l1 .......................\n",
            "[CV] ........ C=0.01, class_weight=balanced, penalty=l1, total=   0.0s\n",
            "[CV] C=0.01, class_weight=balanced, penalty=l1 .......................\n",
            "[CV] ........ C=0.01, class_weight=balanced, penalty=l1, total=   0.0s\n",
            "[CV] C=0.01, class_weight=balanced, penalty=l1 .......................\n",
            "[CV] ........ C=0.01, class_weight=balanced, penalty=l1, total=   0.0s\n",
            "[CV] C=0.01, class_weight=balanced, penalty=l1 .......................\n",
            "[CV] ........ C=0.01, class_weight=balanced, penalty=l1, total=   0.0s\n",
            "[CV] C=0.01, class_weight=balanced, penalty=l2 .......................\n",
            "[CV] ........ C=0.01, class_weight=balanced, penalty=l2, total=   0.0s\n",
            "[CV] C=0.01, class_weight=balanced, penalty=l2 .......................\n",
            "[CV] ........ C=0.01, class_weight=balanced, penalty=l2, total=   0.0s\n",
            "[CV] C=0.01, class_weight=balanced, penalty=l2 .......................\n",
            "[CV] ........ C=0.01, class_weight=balanced, penalty=l2, total=   0.0s\n",
            "[CV] C=0.01, class_weight=balanced, penalty=l2 .......................\n",
            "[CV] ........ C=0.01, class_weight=balanced, penalty=l2, total=   0.0s\n",
            "[CV] C=0.01, class_weight=balanced, penalty=l2 .......................\n",
            "[CV] ........ C=0.01, class_weight=balanced, penalty=l2, total=   0.0s\n",
            "[CV] C=0.1, class_weight=None, penalty=l1 ............................\n",
            "[CV] ............. C=0.1, class_weight=None, penalty=l1, total=   0.0s\n",
            "[CV] C=0.1, class_weight=None, penalty=l1 ............................\n",
            "[CV] ............. C=0.1, class_weight=None, penalty=l1, total=   0.0s\n",
            "[CV] C=0.1, class_weight=None, penalty=l1 ............................\n",
            "[CV] ............. C=0.1, class_weight=None, penalty=l1, total=   0.0s\n",
            "[CV] C=0.1, class_weight=None, penalty=l1 ............................\n",
            "[CV] ............. C=0.1, class_weight=None, penalty=l1, total=   0.0s\n",
            "[CV] C=0.1, class_weight=None, penalty=l1 ............................\n",
            "[CV] ............. C=0.1, class_weight=None, penalty=l1, total=   0.0s\n",
            "[CV] C=0.1, class_weight=None, penalty=l2 ............................\n",
            "[CV] ............. C=0.1, class_weight=None, penalty=l2, total=   0.0s\n",
            "[CV] C=0.1, class_weight=None, penalty=l2 ............................\n",
            "[CV] ............. C=0.1, class_weight=None, penalty=l2, total=   0.0s\n",
            "[CV] C=0.1, class_weight=None, penalty=l2 ............................\n",
            "[CV] ............. C=0.1, class_weight=None, penalty=l2, total=   0.0s\n",
            "[CV] C=0.1, class_weight=None, penalty=l2 ............................\n",
            "[CV] ............. C=0.1, class_weight=None, penalty=l2, total=   0.0s\n",
            "[CV] C=0.1, class_weight=None, penalty=l2 ............................\n",
            "[CV] ............. C=0.1, class_weight=None, penalty=l2, total=   0.0s\n",
            "[CV] C=0.1, class_weight=balanced, penalty=l1 ........................\n",
            "[CV] ......... C=0.1, class_weight=balanced, penalty=l1, total=   0.0s\n",
            "[CV] C=0.1, class_weight=balanced, penalty=l1 ........................\n",
            "[CV] ......... C=0.1, class_weight=balanced, penalty=l1, total=   0.0s\n",
            "[CV] C=0.1, class_weight=balanced, penalty=l1 ........................\n",
            "[CV] ......... C=0.1, class_weight=balanced, penalty=l1, total=   0.0s\n",
            "[CV] C=0.1, class_weight=balanced, penalty=l1 ........................\n",
            "[CV] ......... C=0.1, class_weight=balanced, penalty=l1, total=   0.0s\n",
            "[CV] C=0.1, class_weight=balanced, penalty=l1 ........................\n",
            "[CV] ......... C=0.1, class_weight=balanced, penalty=l1, total=   0.0s\n",
            "[CV] C=0.1, class_weight=balanced, penalty=l2 ........................\n",
            "[CV] ......... C=0.1, class_weight=balanced, penalty=l2, total=   0.0s\n",
            "[CV] C=0.1, class_weight=balanced, penalty=l2 ........................\n",
            "[CV] ......... C=0.1, class_weight=balanced, penalty=l2, total=   0.0s\n",
            "[CV] C=0.1, class_weight=balanced, penalty=l2 ........................\n",
            "[CV] ......... C=0.1, class_weight=balanced, penalty=l2, total=   0.0s\n",
            "[CV] C=0.1, class_weight=balanced, penalty=l2 ........................\n",
            "[CV] ......... C=0.1, class_weight=balanced, penalty=l2, total=   0.0s\n",
            "[CV] C=0.1, class_weight=balanced, penalty=l2 ........................\n",
            "[CV] ......... C=0.1, class_weight=balanced, penalty=l2, total=   0.0s\n",
            "[CV] C=1, class_weight=None, penalty=l1 ..............................\n",
            "[CV] ............... C=1, class_weight=None, penalty=l1, total=   0.0s\n",
            "[CV] C=1, class_weight=None, penalty=l1 ..............................\n",
            "[CV] ............... C=1, class_weight=None, penalty=l1, total=   0.0s\n",
            "[CV] C=1, class_weight=None, penalty=l1 ..............................\n",
            "[CV] ............... C=1, class_weight=None, penalty=l1, total=   0.0s\n",
            "[CV] C=1, class_weight=None, penalty=l1 ..............................\n",
            "[CV] ............... C=1, class_weight=None, penalty=l1, total=   0.0s\n",
            "[CV] C=1, class_weight=None, penalty=l1 ..............................\n",
            "[CV] ............... C=1, class_weight=None, penalty=l1, total=   0.0s\n",
            "[CV] C=1, class_weight=None, penalty=l2 ..............................\n",
            "[CV] ............... C=1, class_weight=None, penalty=l2, total=   0.1s\n",
            "[CV] C=1, class_weight=None, penalty=l2 ..............................\n",
            "[CV] ............... C=1, class_weight=None, penalty=l2, total=   0.1s\n",
            "[CV] C=1, class_weight=None, penalty=l2 ..............................\n",
            "[CV] ............... C=1, class_weight=None, penalty=l2, total=   0.1s\n",
            "[CV] C=1, class_weight=None, penalty=l2 ..............................\n",
            "[CV] ............... C=1, class_weight=None, penalty=l2, total=   0.1s\n",
            "[CV] C=1, class_weight=None, penalty=l2 ..............................\n",
            "[CV] ............... C=1, class_weight=None, penalty=l2, total=   0.1s\n",
            "[CV] C=1, class_weight=balanced, penalty=l1 ..........................\n",
            "[CV] ........... C=1, class_weight=balanced, penalty=l1, total=   0.0s\n",
            "[CV] C=1, class_weight=balanced, penalty=l1 ..........................\n",
            "[CV] ........... C=1, class_weight=balanced, penalty=l1, total=   0.0s\n",
            "[CV] C=1, class_weight=balanced, penalty=l1 ..........................\n",
            "[CV] ........... C=1, class_weight=balanced, penalty=l1, total=   0.0s\n",
            "[CV] C=1, class_weight=balanced, penalty=l1 ..........................\n",
            "[CV] ........... C=1, class_weight=balanced, penalty=l1, total=   0.0s\n",
            "[CV] C=1, class_weight=balanced, penalty=l1 ..........................\n",
            "[CV] ........... C=1, class_weight=balanced, penalty=l1, total=   0.0s\n",
            "[CV] C=1, class_weight=balanced, penalty=l2 ..........................\n",
            "[CV] ........... C=1, class_weight=balanced, penalty=l2, total=   0.1s\n",
            "[CV] C=1, class_weight=balanced, penalty=l2 ..........................\n",
            "[CV] ........... C=1, class_weight=balanced, penalty=l2, total=   0.1s\n",
            "[CV] C=1, class_weight=balanced, penalty=l2 ..........................\n",
            "[CV] ........... C=1, class_weight=balanced, penalty=l2, total=   0.1s\n",
            "[CV] C=1, class_weight=balanced, penalty=l2 ..........................\n",
            "[CV] ........... C=1, class_weight=balanced, penalty=l2, total=   0.1s\n",
            "[CV] C=1, class_weight=balanced, penalty=l2 ..........................\n",
            "[CV] ........... C=1, class_weight=balanced, penalty=l2, total=   0.1s\n",
            "[CV] C=10, class_weight=None, penalty=l1 .............................\n",
            "[CV] .............. C=10, class_weight=None, penalty=l1, total=   0.0s\n",
            "[CV] C=10, class_weight=None, penalty=l1 .............................\n",
            "[CV] .............. C=10, class_weight=None, penalty=l1, total=   0.0s\n",
            "[CV] C=10, class_weight=None, penalty=l1 .............................\n",
            "[CV] .............. C=10, class_weight=None, penalty=l1, total=   0.0s\n",
            "[CV] C=10, class_weight=None, penalty=l1 .............................\n",
            "[CV] .............. C=10, class_weight=None, penalty=l1, total=   0.0s\n",
            "[CV] C=10, class_weight=None, penalty=l1 .............................\n",
            "[CV] .............. C=10, class_weight=None, penalty=l1, total=   0.0s\n",
            "[CV] C=10, class_weight=None, penalty=l2 .............................\n",
            "[CV] .............. C=10, class_weight=None, penalty=l2, total=   0.1s\n",
            "[CV] C=10, class_weight=None, penalty=l2 .............................\n",
            "[CV] .............. C=10, class_weight=None, penalty=l2, total=   0.1s\n",
            "[CV] C=10, class_weight=None, penalty=l2 .............................\n",
            "[CV] .............. C=10, class_weight=None, penalty=l2, total=   0.2s\n",
            "[CV] C=10, class_weight=None, penalty=l2 .............................\n",
            "[CV] .............. C=10, class_weight=None, penalty=l2, total=   0.2s\n",
            "[CV] C=10, class_weight=None, penalty=l2 .............................\n",
            "[CV] .............. C=10, class_weight=None, penalty=l2, total=   0.2s\n",
            "[CV] C=10, class_weight=balanced, penalty=l1 .........................\n",
            "[CV] .......... C=10, class_weight=balanced, penalty=l1, total=   0.0s\n",
            "[CV] C=10, class_weight=balanced, penalty=l1 .........................\n",
            "[CV] .......... C=10, class_weight=balanced, penalty=l1, total=   0.0s\n",
            "[CV] C=10, class_weight=balanced, penalty=l1 .........................\n",
            "[CV] .......... C=10, class_weight=balanced, penalty=l1, total=   0.0s\n",
            "[CV] C=10, class_weight=balanced, penalty=l1 .........................\n",
            "[CV] .......... C=10, class_weight=balanced, penalty=l1, total=   0.0s\n",
            "[CV] C=10, class_weight=balanced, penalty=l1 .........................\n",
            "[CV] .......... C=10, class_weight=balanced, penalty=l1, total=   0.0s\n",
            "[CV] C=10, class_weight=balanced, penalty=l2 .........................\n",
            "[CV] .......... C=10, class_weight=balanced, penalty=l2, total=   0.2s\n",
            "[CV] C=10, class_weight=balanced, penalty=l2 .........................\n",
            "[CV] .......... C=10, class_weight=balanced, penalty=l2, total=   0.1s\n",
            "[CV] C=10, class_weight=balanced, penalty=l2 .........................\n",
            "[CV] .......... C=10, class_weight=balanced, penalty=l2, total=   0.1s\n",
            "[CV] C=10, class_weight=balanced, penalty=l2 .........................\n",
            "[CV] .......... C=10, class_weight=balanced, penalty=l2, total=   0.1s\n",
            "[CV] C=10, class_weight=balanced, penalty=l2 .........................\n",
            "[CV] .......... C=10, class_weight=balanced, penalty=l2, total=   0.1s\n",
            "[CV] C=100, class_weight=None, penalty=l1 ............................\n",
            "[CV] ............. C=100, class_weight=None, penalty=l1, total=   0.0s\n",
            "[CV] C=100, class_weight=None, penalty=l1 ............................\n",
            "[CV] ............. C=100, class_weight=None, penalty=l1, total=   0.0s\n",
            "[CV] C=100, class_weight=None, penalty=l1 ............................\n",
            "[CV] ............. C=100, class_weight=None, penalty=l1, total=   0.0s\n",
            "[CV] C=100, class_weight=None, penalty=l1 ............................\n",
            "[CV] ............. C=100, class_weight=None, penalty=l1, total=   0.0s\n",
            "[CV] C=100, class_weight=None, penalty=l1 ............................\n",
            "[CV] ............. C=100, class_weight=None, penalty=l1, total=   0.0s\n",
            "[CV] C=100, class_weight=None, penalty=l2 ............................\n",
            "[CV] ............. C=100, class_weight=None, penalty=l2, total=   0.2s\n",
            "[CV] C=100, class_weight=None, penalty=l2 ............................\n",
            "[CV] ............. C=100, class_weight=None, penalty=l2, total=   0.2s\n",
            "[CV] C=100, class_weight=None, penalty=l2 ............................\n",
            "[CV] ............. C=100, class_weight=None, penalty=l2, total=   0.2s\n",
            "[CV] C=100, class_weight=None, penalty=l2 ............................\n",
            "[CV] ............. C=100, class_weight=None, penalty=l2, total=   0.2s\n",
            "[CV] C=100, class_weight=None, penalty=l2 ............................\n",
            "[CV] ............. C=100, class_weight=None, penalty=l2, total=   0.2s\n",
            "[CV] C=100, class_weight=balanced, penalty=l1 ........................\n",
            "[CV] ......... C=100, class_weight=balanced, penalty=l1, total=   0.0s\n",
            "[CV] C=100, class_weight=balanced, penalty=l1 ........................\n",
            "[CV] ......... C=100, class_weight=balanced, penalty=l1, total=   0.0s\n",
            "[CV] C=100, class_weight=balanced, penalty=l1 ........................\n",
            "[CV] ......... C=100, class_weight=balanced, penalty=l1, total=   0.0s\n",
            "[CV] C=100, class_weight=balanced, penalty=l1 ........................\n",
            "[CV] ......... C=100, class_weight=balanced, penalty=l1, total=   0.0s\n",
            "[CV] C=100, class_weight=balanced, penalty=l1 ........................\n",
            "[CV] ......... C=100, class_weight=balanced, penalty=l1, total=   0.0s\n",
            "[CV] C=100, class_weight=balanced, penalty=l2 ........................\n",
            "[CV] ......... C=100, class_weight=balanced, penalty=l2, total=   0.2s\n",
            "[CV] C=100, class_weight=balanced, penalty=l2 ........................\n",
            "[CV] ......... C=100, class_weight=balanced, penalty=l2, total=   0.2s\n",
            "[CV] C=100, class_weight=balanced, penalty=l2 ........................\n",
            "[CV] ......... C=100, class_weight=balanced, penalty=l2, total=   0.2s\n",
            "[CV] C=100, class_weight=balanced, penalty=l2 ........................\n",
            "[CV] ......... C=100, class_weight=balanced, penalty=l2, total=   0.2s\n",
            "[CV] C=100, class_weight=balanced, penalty=l2 ........................\n",
            "[CV] ......... C=100, class_weight=balanced, penalty=l2, total=   0.2s\n",
            "[CV] C=1000, class_weight=None, penalty=l1 ...........................\n",
            "[CV] ............ C=1000, class_weight=None, penalty=l1, total=   0.0s\n",
            "[CV] C=1000, class_weight=None, penalty=l1 ...........................\n",
            "[CV] ............ C=1000, class_weight=None, penalty=l1, total=   0.0s\n",
            "[CV] C=1000, class_weight=None, penalty=l1 ...........................\n",
            "[CV] ............ C=1000, class_weight=None, penalty=l1, total=   0.0s\n",
            "[CV] C=1000, class_weight=None, penalty=l1 ...........................\n",
            "[CV] ............ C=1000, class_weight=None, penalty=l1, total=   0.0s\n",
            "[CV] C=1000, class_weight=None, penalty=l1 ...........................\n",
            "[CV] ............ C=1000, class_weight=None, penalty=l1, total=   0.0s\n",
            "[CV] C=1000, class_weight=None, penalty=l2 ...........................\n",
            "[CV] ............ C=1000, class_weight=None, penalty=l2, total=   0.2s\n",
            "[CV] C=1000, class_weight=None, penalty=l2 ...........................\n",
            "[CV] ............ C=1000, class_weight=None, penalty=l2, total=   0.2s\n",
            "[CV] C=1000, class_weight=None, penalty=l2 ...........................\n",
            "[CV] ............ C=1000, class_weight=None, penalty=l2, total=   0.2s\n",
            "[CV] C=1000, class_weight=None, penalty=l2 ...........................\n",
            "[CV] ............ C=1000, class_weight=None, penalty=l2, total=   0.2s\n",
            "[CV] C=1000, class_weight=None, penalty=l2 ...........................\n",
            "[CV] ............ C=1000, class_weight=None, penalty=l2, total=   0.2s\n",
            "[CV] C=1000, class_weight=balanced, penalty=l1 .......................\n",
            "[CV] ........ C=1000, class_weight=balanced, penalty=l1, total=   0.0s\n",
            "[CV] C=1000, class_weight=balanced, penalty=l1 .......................\n",
            "[CV] ........ C=1000, class_weight=balanced, penalty=l1, total=   0.0s\n",
            "[CV] C=1000, class_weight=balanced, penalty=l1 .......................\n",
            "[CV] ........ C=1000, class_weight=balanced, penalty=l1, total=   0.0s\n",
            "[CV] C=1000, class_weight=balanced, penalty=l1 .......................\n",
            "[CV] ........ C=1000, class_weight=balanced, penalty=l1, total=   0.0s\n",
            "[CV] C=1000, class_weight=balanced, penalty=l1 .......................\n",
            "[CV] ........ C=1000, class_weight=balanced, penalty=l1, total=   0.0s\n",
            "[CV] C=1000, class_weight=balanced, penalty=l2 .......................\n",
            "[CV] ........ C=1000, class_weight=balanced, penalty=l2, total=   0.2s\n",
            "[CV] C=1000, class_weight=balanced, penalty=l2 .......................\n",
            "[CV] ........ C=1000, class_weight=balanced, penalty=l2, total=   0.2s\n",
            "[CV] C=1000, class_weight=balanced, penalty=l2 .......................\n",
            "[CV] ........ C=1000, class_weight=balanced, penalty=l2, total=   0.2s\n",
            "[CV] C=1000, class_weight=balanced, penalty=l2 .......................\n",
            "[CV] ........ C=1000, class_weight=balanced, penalty=l2, total=   0.2s\n",
            "[CV] C=1000, class_weight=balanced, penalty=l2 .......................\n",
            "[CV] ........ C=1000, class_weight=balanced, penalty=l2, total=   0.1s\n"
          ],
          "name": "stdout"
        },
        {
          "output_type": "stream",
          "text": [
            "[Parallel(n_jobs=1)]: Done 160 out of 160 | elapsed:    6.2s finished\n"
          ],
          "name": "stderr"
        },
        {
          "output_type": "execute_result",
          "data": {
            "text/plain": [
              "GridSearchCV(cv=5, error_score=nan,\n",
              "             estimator=LogisticRegression(C=1.0, class_weight=None, dual=False,\n",
              "                                          fit_intercept=True,\n",
              "                                          intercept_scaling=1, l1_ratio=None,\n",
              "                                          max_iter=100, multi_class='auto',\n",
              "                                          n_jobs=None, penalty='l2',\n",
              "                                          random_state=None, solver='lbfgs',\n",
              "                                          tol=0.0001, verbose=0,\n",
              "                                          warm_start=False),\n",
              "             iid='deprecated', n_jobs=None,\n",
              "             param_grid={'C': [0.0001, 0.001, 0.01, 0.1, 1, 10, 100, 1000],\n",
              "                         'class_weight': [None, 'balanced'],\n",
              "                         'penalty': ['l1', 'l2']},\n",
              "             pre_dispatch='2*n_jobs', refit=True, return_train_score=False,\n",
              "             scoring=None, verbose=2)"
            ]
          },
          "metadata": {
            "tags": []
          },
          "execution_count": 183
        }
      ]
    },
    {
      "cell_type": "code",
      "metadata": {
        "colab": {
          "base_uri": "https://localhost:8080/"
        },
        "id": "AaCvGIRm_K0Z",
        "outputId": "3d359fa4-c837-416d-d9e5-ca4850a5d41a"
      },
      "source": [
        "G.best_params_"
      ],
      "execution_count": 184,
      "outputs": [
        {
          "output_type": "execute_result",
          "data": {
            "text/plain": [
              "{'C': 1, 'class_weight': None, 'penalty': 'l2'}"
            ]
          },
          "metadata": {
            "tags": []
          },
          "execution_count": 184
        }
      ]
    },
    {
      "cell_type": "code",
      "metadata": {
        "colab": {
          "base_uri": "https://localhost:8080/"
        },
        "id": "2-pxojNA_RjY",
        "outputId": "10db90ad-520a-4e45-aac7-73adbe3426f2"
      },
      "source": [
        "final = LogisticRegression(C=1,penalty='l2')\n",
        "\n",
        "final.fit(sparse_text_tr,y_train)"
      ],
      "execution_count": 185,
      "outputs": [
        {
          "output_type": "execute_result",
          "data": {
            "text/plain": [
              "LogisticRegression(C=1, class_weight=None, dual=False, fit_intercept=True,\n",
              "                   intercept_scaling=1, l1_ratio=None, max_iter=100,\n",
              "                   multi_class='auto', n_jobs=None, penalty='l2',\n",
              "                   random_state=None, solver='lbfgs', tol=0.0001, verbose=0,\n",
              "                   warm_start=False)"
            ]
          },
          "metadata": {
            "tags": []
          },
          "execution_count": 185
        }
      ]
    },
    {
      "cell_type": "code",
      "metadata": {
        "id": "WxGEIJn_Au3k"
      },
      "source": [
        "pre = final.predict(sparse_text_te)\n",
        "pre_t = final.predict(sparse_text_tr)"
      ],
      "execution_count": 177,
      "outputs": []
    },
    {
      "cell_type": "code",
      "metadata": {
        "colab": {
          "base_uri": "https://localhost:8080/",
          "height": 329
        },
        "id": "_9S3mbYhA-R3",
        "outputId": "555dca93-d65e-4214-92af-e02e22ec3638"
      },
      "source": [
        "sb.heatmap(confusion_matrix(y_test,pre),annot=True,fmt=\".5g\",cmap='icefire')\n",
        "plt.title(\"Logistic Regression Test Confusion Matrix\")\n",
        "plt.xlabel('Predicted')\n",
        "plt.ylabel('Truth')\n",
        "\n",
        "LR_f1 = f1_score(y_test,pre)\n",
        "\n",
        "print(\"Logistic Regression F1-Score : \",LR_f1,\"\\n\")"
      ],
      "execution_count": 178,
      "outputs": [
        {
          "output_type": "stream",
          "text": [
            "Logistic Regression F1-Score :  0.7441860465116279 \n",
            "\n"
          ],
          "name": "stdout"
        },
        {
          "output_type": "display_data",
          "data": {
            "image/png": "[encoded data removed]",
            "text/plain": [
              "<Figure size 432x288 with 2 Axes>"
            ]
          },
          "metadata": {
            "tags": [],
            "needs_background": "light"
          }
        }
      ]
    },
    {
      "cell_type": "code",
      "metadata": {
        "colab": {
          "base_uri": "https://localhost:8080/",
          "height": 329
        },
        "id": "5IlAyJ6nBOXY",
        "outputId": "dc5dae57-8337-4922-a6fe-85eb55dcd127"
      },
      "source": [
        "sb.heatmap(confusion_matrix(y_train,pre_t),annot=True,fmt=\".5g\",cmap='icefire')\n",
        "plt.title(\"Logistic Regression Test Confusion Matrix\")\n",
        "plt.xlabel('Predicted')\n",
        "plt.ylabel('Truth')\n",
        "\n",
        "LR_f1 = f1_score(y_train,pre_t)\n",
        "\n",
        "print(\"Logistic Regression F1-Score : \",LR_f1,\"\\n\")"
      ],
      "execution_count": 179,
      "outputs": [
        {
          "output_type": "stream",
          "text": [
            "Logistic Regression F1-Score :  0.8252527336496802 \n",
            "\n"
          ],
          "name": "stdout"
        },
        {
          "output_type": "display_data",
          "data": {
            "image/png": "[encoded data removed]",
            "text/plain": [
              "<Figure size 432x288 with 2 Axes>"
            ]
          },
          "metadata": {
            "tags": [],
            "needs_background": "light"
          }
        }
      ]
    },
    {
      "cell_type": "code",
      "metadata": {
        "colab": {
          "base_uri": "https://localhost:8080/"
        },
        "id": "mVOt8-u2Bhp_",
        "outputId": "62c957f9-b723-425a-8ac4-f341dab66f9d"
      },
      "source": [
        "final_nb = MultinomialNB(alpha=1)\n",
        "\n",
        "final_nb.fit(sparse_text_tr,y_train)"
      ],
      "execution_count": 186,
      "outputs": [
        {
          "output_type": "execute_result",
          "data": {
            "text/plain": [
              "MultinomialNB(alpha=1, class_prior=None, fit_prior=True)"
            ]
          },
          "metadata": {
            "tags": []
          },
          "execution_count": 186
        }
      ]
    },
    {
      "cell_type": "code",
      "metadata": {
        "id": "zTUDy6BnEInM"
      },
      "source": [
        "pre = final.predict(sparse_text_te)\n",
        "pre_t = final.predict(sparse_text_tr)"
      ],
      "execution_count": 187,
      "outputs": []
    },
    {
      "cell_type": "code",
      "metadata": {
        "colab": {
          "base_uri": "https://localhost:8080/",
          "height": 329
        },
        "id": "Fh9Zic6DEI7E",
        "outputId": "988d3a90-5382-4e50-a081-2a47cfdad266"
      },
      "source": [
        "sb.heatmap(confusion_matrix(y_test,pre),annot=True,fmt=\".5g\",cmap='icefire')\n",
        "plt.title(\"Logistic Regression Test Confusion Matrix\")\n",
        "plt.xlabel('Predicted')\n",
        "plt.ylabel('Truth')\n",
        "\n",
        "LR_f1 = f1_score(y_test,pre)\n",
        "\n",
        "print(\"Logistic Regression F1-Score : \",LR_f1,\"\\n\")"
      ],
      "execution_count": 188,
      "outputs": [
        {
          "output_type": "stream",
          "text": [
            "Logistic Regression F1-Score :  0.7441860465116279 \n",
            "\n"
          ],
          "name": "stdout"
        },
        {
          "output_type": "display_data",
          "data": {
            "image/png": "[encoded data removed]",
            "text/plain": [
              "<Figure size 432x288 with 2 Axes>"
            ]
          },
          "metadata": {
            "tags": [],
            "needs_background": "light"
          }
        }
      ]
    },
    {
      "cell_type": "code",
      "metadata": {
        "colab": {
          "base_uri": "https://localhost:8080/",
          "height": 329
        },
        "id": "yqefrpomELBb",
        "outputId": "de562571-ec8f-450f-9595-78822630011b"
      },
      "source": [
        "sb.heatmap(confusion_matrix(y_train,pre_t),annot=True,fmt=\".5g\",cmap='icefire')\n",
        "plt.title(\"Logistic Regression Test Confusion Matrix\")\n",
        "plt.xlabel('Predicted')\n",
        "plt.ylabel('Truth')\n",
        "\n",
        "LR_f1 = f1_score(y_train,pre_t)\n",
        "\n",
        "print(\"Logistic Regression F1-Score : \",LR_f1,\"\\n\")"
      ],
      "execution_count": 189,
      "outputs": [
        {
          "output_type": "stream",
          "text": [
            "Logistic Regression F1-Score :  0.8252527336496802 \n",
            "\n"
          ],
          "name": "stdout"
        },
        {
          "output_type": "display_data",
          "data": {
            "image/png": "[encoded data removed]",
            "text/plain": [
              "<Figure size 432x288 with 2 Axes>"
            ]
          },
          "metadata": {
            "tags": [],
            "needs_background": "light"
          }
        }
      ]
    },
    {
      "cell_type": "code",
      "metadata": {
        "id": "jxWx4DyzEO3j"
      },
      "source": [
        ""
      ],
      "execution_count": null,
      "outputs": []
    }
  ]
}